{
 "cells": [
  {
   "cell_type": "code",
   "execution_count": null,
   "id": "56b5a820",
   "metadata": {},
   "outputs": [],
   "source": [
    "python train_drop_resnet18si_cifar10_clean_from_starting_point.py \\\n",
    "    --gpu 3 \\\n",
    "    --init_checkpoint ./../drops_with_clean_cifar10/Experiments/ResNet18SI_CIFAR10_elri_0.01_elrd_0.01_dropepoch_1000_wd_0.0_seed_2021_noaug_True/checkpoint-200.pt \\\n",
    "    --init_elr 1e-2 --drop_elr 1e-3 \\\n",
    "    --drop_epoch 200 \\\n",
    "    --seed 1 \\\n",
    "    --wd 0 --aug 0 --k_epoch 201"
   ]
  },
  {
   "cell_type": "code",
   "execution_count": null,
   "id": "b65fda6f",
   "metadata": {},
   "outputs": [],
   "source": [
    "python train_drop_resnet18si_cifar10_clean_from_starting_point.py \\\n",
    "    --gpu 4 \\\n",
    "    --init_checkpoint ./Experiments/FIXEDINIT_DROP_ResNet18SI_CIFAR10_elri_0.01_elrd_0.001_dropepochfrom_200_wd_0.0_seed_1_noaug_True/checkpoint-400.pt \\\n",
    "    --init_elr 1e-3 --drop_elr 3e-4 \\\n",
    "    --drop_epoch 400 \\\n",
    "    --seed 2 \\\n",
    "    --wd 0 --aug 0 --k_epoch 201"
   ]
  },
  {
   "cell_type": "code",
   "execution_count": null,
   "id": "75b568d8",
   "metadata": {},
   "outputs": [],
   "source": [
    "python train_drop_resnet18si_cifar10_clean_from_starting_point.py \\\n",
    "    --gpu 5 \\\n",
    "    --init_checkpoint ./Experiments/FIXEDINIT_DROP_ResNet18SI_CIFAR10_elri_0.01_elrd_0.001_dropepochfrom_200_wd_0.0_seed_1_noaug_True/checkpoint-400.pt \\\n",
    "    --init_elr 1e-3 --drop_elr 1e-5 \\\n",
    "    --drop_epoch 400 \\\n",
    "    --seed 3 \\\n",
    "    --wd 0 --aug 0 --k_epoch 201"
   ]
  },
  {
   "cell_type": "code",
   "execution_count": null,
   "id": "9afc6999",
   "metadata": {},
   "outputs": [],
   "source": []
  }
 ],
 "metadata": {
  "kernelspec": {
   "display_name": "Python (venv_gpu)",
   "language": "python",
   "name": "venv_gpu"
  },
  "language_info": {
   "codemirror_mode": {
    "name": "ipython",
    "version": 3
   },
   "file_extension": ".py",
   "mimetype": "text/x-python",
   "name": "python",
   "nbconvert_exporter": "python",
   "pygments_lexer": "ipython3",
   "version": "3.11.0"
  },
  "toc": {
   "base_numbering": 1,
   "nav_menu": {},
   "number_sections": true,
   "sideBar": true,
   "skip_h1_title": false,
   "title_cell": "Table of Contents",
   "title_sidebar": "Contents",
   "toc_cell": true,
   "toc_position": {},
   "toc_section_display": true,
   "toc_window_display": false
  }
 },
 "nbformat": 4,
 "nbformat_minor": 5
}
