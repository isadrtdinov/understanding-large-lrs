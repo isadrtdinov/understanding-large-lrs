{
 "cells": [
  {
   "cell_type": "markdown",
   "id": "666c038a",
   "metadata": {},
   "source": [
    "# imports"
   ]
  },
  {
   "cell_type": "code",
   "execution_count": 1,
   "id": "b76b5379",
   "metadata": {
    "ExecuteTime": {
     "end_time": "2024-05-21T03:24:36.426480Z",
     "start_time": "2024-05-21T03:24:35.189812Z"
    },
    "deletable": false,
    "editable": false
   },
   "outputs": [],
   "source": [
    "import os\n",
    "import pickle\n",
    "\n",
    "import numpy as np\n",
    "from tqdm import tqdm\n",
    "\n",
    "from matplotlib import pyplot as plt\n",
    "\n",
    "import torch\n",
    "import numpy as np\n",
    "from glob import glob\n",
    "\n",
    "from matplotlib.pyplot import cm"
   ]
  },
  {
   "cell_type": "code",
   "execution_count": 21,
   "id": "68f59991",
   "metadata": {
    "ExecuteTime": {
     "end_time": "2024-05-21T03:43:05.688478Z",
     "start_time": "2024-05-21T03:43:05.684411Z"
    },
    "deletable": false,
    "editable": false
   },
   "outputs": [],
   "source": [
    "def check_key_name(n):\n",
    "#     return 0/0\n",
    "    return 'linear' not in n and 'bn' not in n and 'shortcut.0' not in n\n",
    "            \n",
    "def make_flatten_vec(state_dict, layer=None):\n",
    "    values = []\n",
    "    if layer is None:\n",
    "        for key, value in state_dict.items():\n",
    "            if check_key_name(key):\n",
    "                values.append(torch.flatten(value))\n",
    "    else:\n",
    "        values.append(torch.flatten(state_dict[layer]))\n",
    "#             print('adding ', value.shape)\n",
    "    vec = torch.cat(values, 0).to(torch.float64)\n",
    "    return vec"
   ]
  },
  {
   "cell_type": "code",
   "execution_count": 3,
   "id": "dcaf4548",
   "metadata": {
    "ExecuteTime": {
     "end_time": "2024-05-21T03:25:01.679648Z",
     "start_time": "2024-05-21T03:25:01.675225Z"
    },
    "deletable": false,
    "editable": false
   },
   "outputs": [],
   "source": [
    "def unit_vector(vector):\n",
    "    \"\"\" Returns the unit vector of the vector.  \"\"\"\n",
    "    return vector / np.linalg.norm(vector)\n",
    "\n",
    "def angle_between(v1, v2):\n",
    "    \"\"\" Returns the angle in radians between vectors 'v1' and 'v2'::\n",
    "\n",
    "            >>> angle_between((1, 0, 0), (0, 1, 0))\n",
    "            1.5707963267948966\n",
    "            >>> angle_between((1, 0, 0), (1, 0, 0))\n",
    "            0.0\n",
    "            >>> angle_between((1, 0, 0), (-1, 0, 0))\n",
    "            3.141592653589793\n",
    "    \"\"\"\n",
    "    v1_u = unit_vector(v1)\n",
    "    v2_u = unit_vector(v2)\n",
    "    return np.arccos(np.clip(np.dot(v1_u, v2_u), -1.0, 1.0))\n",
    "\n",
    "def get_init_angle_dist(point_a:str, point_b:str):\n",
    "    sd1 = torch.load(point_a)['state_dict']\n",
    "    sd2 = torch.load(point_b)['state_dict']\n",
    "    \n",
    "#     print(sd1.keys()) \n",
    "#     print('-'*10)\n",
    "#     print(sd2.keys())\n",
    "    \n",
    "    vec1 = make_flatten_vec(sd1).detach().cpu()\n",
    "    vec2 = make_flatten_vec(sd2).detach().cpu()\n",
    "    cdist = angle_between(vec1, vec2)\n",
    "    return cdist"
   ]
  },
  {
   "cell_type": "markdown",
   "id": "c0e0ebfa",
   "metadata": {},
   "source": [
    "# LI with barrier"
   ]
  },
  {
   "cell_type": "code",
   "execution_count": 4,
   "id": "47a7ed49",
   "metadata": {
    "ExecuteTime": {
     "end_time": "2024-05-21T03:25:06.142565Z",
     "start_time": "2024-05-21T03:25:06.139431Z"
    },
    "deletable": false,
    "editable": false
   },
   "outputs": [],
   "source": [
    "def read_angle_dist_from_track(checkpoint_dir: str, n_steps: int=20):\n",
    "    base = os.path.join(checkpoint_dir, 'interp_result_{:5.4f}-{}.pt')\n",
    "    pt_path0 = base.format(0.0, int(0.0))\n",
    "    pt_path1 = base.format(1.0, int(1.0))\n",
    "\n",
    "    angle = get_init_angle_dist(point_a=pt_path0, point_b=pt_path1)   \n",
    "       \n",
    "    return angle"
   ]
  },
  {
   "cell_type": "code",
   "execution_count": 5,
   "id": "25af25f0",
   "metadata": {
    "ExecuteTime": {
     "end_time": "2024-05-21T03:25:15.388164Z",
     "start_time": "2024-05-21T03:25:15.384382Z"
    },
    "deletable": false,
    "editable": false
   },
   "outputs": [],
   "source": [
    "def read_li_track(checkpoint_dir: str, n_steps: int=20):\n",
    "    track = []\n",
    "    for alpha in np.linspace(0.0, 1.0, n_steps + 1):\n",
    "        base = os.path.join(checkpoint_dir, 'interp_result_{:5.4f}-{}.pt')\n",
    "        pt_path = base.format(alpha, int(alpha))\n",
    "        data = torch.load(pt_path)\n",
    "\n",
    "        data['pnorm'] = np.linalg.norm(make_flatten_vec(data['state_dict']).cpu())\n",
    "\n",
    "        del data['state_dict']\n",
    "\n",
    "        data['alpha'] = alpha\n",
    "\n",
    "        track.append(data)\n",
    "    return track"
   ]
  },
  {
   "cell_type": "code",
   "execution_count": 6,
   "id": "fccdd0db",
   "metadata": {
    "ExecuteTime": {
     "end_time": "2024-05-21T03:25:15.879027Z",
     "start_time": "2024-05-21T03:25:15.875821Z"
    },
    "deletable": false,
    "editable": false
   },
   "outputs": [],
   "source": [
    "def track_to_barrier(track_values: list, barrier_is_higher: bool=True):\n",
    "    track_values = np.array(track_values)\n",
    "    A = track_values[0]\n",
    "    B = track_values[-1]\n",
    "    \n",
    "    alpha = np.linspace(0.0, 1.0, len(track_values))\n",
    "    li = (1.0 - alpha) * A + alpha * B \n",
    "    if barrier_is_higher:\n",
    "        return (track_values - li).clip(min=0.0).max()\n",
    "    return (li - track_values).clip(min=0.0).max()"
   ]
  },
  {
   "cell_type": "markdown",
   "id": "3f23b724",
   "metadata": {},
   "source": [
    "# general"
   ]
  },
  {
   "cell_type": "code",
   "execution_count": 26,
   "id": "15d04d47",
   "metadata": {
    "ExecuteTime": {
     "end_time": "2024-05-21T03:53:07.032643Z",
     "start_time": "2024-05-21T03:53:07.028766Z"
    }
   },
   "outputs": [],
   "source": [
    "USUAL_ELRS = [\n",
    "    1e-4, 2e-4, 5e-4,\n",
    "    1e-3, 2e-3, 5e-3,\n",
    "    1e-2, 2e-2, 5e-2,\n",
    "    1e-1, 2e-1, 5e-1,\n",
    "]\n",
    "\n",
    "EDLRS = [1e-4, 2e-3]"
   ]
  },
  {
   "cell_type": "code",
   "execution_count": 18,
   "id": "d9538a42",
   "metadata": {
    "ExecuteTime": {
     "end_time": "2024-05-21T03:38:06.289274Z",
     "start_time": "2024-05-21T03:38:06.285664Z"
    }
   },
   "outputs": [],
   "source": [
    "def check_si_name(n, model_name):\n",
    "    if model_name == 'ResNet18':\n",
    "        return \"conv1\" in n or \"1.bn1\" in n or \"1.0.bn1\" in n or ((\"conv2\" in n or \"short\" in n) and \"4\" not in n)\n",
    "    elif model_name == 'ResNet18SI':\n",
    "        return 'linear' not in n\n",
    "    elif model_name == 'ResNet18SIAf':\n",
    "        return ('linear' not in n and 'bn' not in n and 'shortcut.0' not in n)\n",
    "    elif 'ConvNet' in model_name:\n",
    "        return 'conv_layers.0.' in n or 'conv_layers.3.' in n or 'conv_layers.7.' in n or 'conv_layers.11.' in n\n",
    "    return False"
   ]
  },
  {
   "cell_type": "markdown",
   "id": "dd12021e",
   "metadata": {},
   "source": [
    "# DROP(HIGH) -> DROP(LOW)"
   ]
  },
  {
   "cell_type": "code",
   "execution_count": 27,
   "id": "8e986581",
   "metadata": {
    "ExecuteTime": {
     "end_time": "2024-05-21T03:53:15.554278Z",
     "start_time": "2024-05-21T03:53:15.549595Z"
    },
    "deletable": false,
    "editable": false,
    "scrolled": true
   },
   "outputs": [
    {
     "name": "stdout",
     "output_type": "stream",
     "text": [
      "python ./linear_interpolation_resnet18_cifar100_clean.py \\\n",
      "    --gpu 0 --elr 0.0001 --n_interp 20 --recalc_bn 1 \\\n",
      "    --point_a ./ResNet18_CIFAR100_size64_finetune_high_dlr_2e-03/lr0.0001_checkpoint.pt \\\n",
      "    --point_b ./ResNet18_CIFAR100_size64_finetune_low_dlr_1e-04/lr0.0001_checkpoint.pt \\\n",
      "    --save ./Experiments/CONNECTIVITY_RN18C100_lri_0.0001_from_drop_2e-03_to_drop_1e-04/ && \\\n",
      "python ./calc_grad_norms_resnet18siaf_cifar100_clean.py \\\n",
      "    --gpu 0 \\\n",
      "    --directory_with_checkpoints ./Experiments/CONNECTIVITY_RN18C100_lri_0.0001_from_drop_2e-03_to_drop_1e-04/ \\\n",
      "    --train_mode 1 && \\\n",
      "python ./linear_interpolation_resnet18_cifar100_clean.py \\\n",
      "    --gpu 0 --elr 0.0002 --n_interp 20 --recalc_bn 1 \\\n",
      "    --point_a ./ResNet18_CIFAR100_size64_finetune_high_dlr_2e-03/lr0.0002_checkpoint.pt \\\n",
      "    --point_b ./ResNet18_CIFAR100_size64_finetune_low_dlr_1e-04/lr0.0002_checkpoint.pt \\\n",
      "    --save ./Experiments/CONNECTIVITY_RN18C100_lri_0.0002_from_drop_2e-03_to_drop_1e-04/ && \\\n",
      "python ./calc_grad_norms_resnet18siaf_cifar100_clean.py \\\n",
      "    --gpu 0 \\\n",
      "    --directory_with_checkpoints ./Experiments/CONNECTIVITY_RN18C100_lri_0.0002_from_drop_2e-03_to_drop_1e-04/ \\\n",
      "    --train_mode 1 && \\\n",
      "python ./linear_interpolation_resnet18_cifar100_clean.py \\\n",
      "    --gpu 0 --elr 0.0005 --n_interp 20 --recalc_bn 1 \\\n",
      "    --point_a ./ResNet18_CIFAR100_size64_finetune_high_dlr_2e-03/lr0.0005_checkpoint.pt \\\n",
      "    --point_b ./ResNet18_CIFAR100_size64_finetune_low_dlr_1e-04/lr0.0005_checkpoint.pt \\\n",
      "    --save ./Experiments/CONNECTIVITY_RN18C100_lri_0.0005_from_drop_2e-03_to_drop_1e-04/ && \\\n",
      "python ./calc_grad_norms_resnet18siaf_cifar100_clean.py \\\n",
      "    --gpu 0 \\\n",
      "    --directory_with_checkpoints ./Experiments/CONNECTIVITY_RN18C100_lri_0.0005_from_drop_2e-03_to_drop_1e-04/ \\\n",
      "    --train_mode 1 && \\\n",
      "\n",
      "\n",
      "\n",
      "python ./linear_interpolation_resnet18_cifar100_clean.py \\\n",
      "    --gpu 1 --elr 0.001 --n_interp 20 --recalc_bn 1 \\\n",
      "    --point_a ./ResNet18_CIFAR100_size64_finetune_high_dlr_2e-03/lr0.001_checkpoint.pt \\\n",
      "    --point_b ./ResNet18_CIFAR100_size64_finetune_low_dlr_1e-04/lr0.001_checkpoint.pt \\\n",
      "    --save ./Experiments/CONNECTIVITY_RN18C100_lri_0.001_from_drop_2e-03_to_drop_1e-04/ && \\\n",
      "python ./calc_grad_norms_resnet18siaf_cifar100_clean.py \\\n",
      "    --gpu 1 \\\n",
      "    --directory_with_checkpoints ./Experiments/CONNECTIVITY_RN18C100_lri_0.001_from_drop_2e-03_to_drop_1e-04/ \\\n",
      "    --train_mode 1 && \\\n",
      "python ./linear_interpolation_resnet18_cifar100_clean.py \\\n",
      "    --gpu 1 --elr 0.002 --n_interp 20 --recalc_bn 1 \\\n",
      "    --point_a ./ResNet18_CIFAR100_size64_finetune_high_dlr_2e-03/lr0.002_checkpoint.pt \\\n",
      "    --point_b ./ResNet18_CIFAR100_size64_finetune_low_dlr_1e-04/lr0.002_checkpoint.pt \\\n",
      "    --save ./Experiments/CONNECTIVITY_RN18C100_lri_0.002_from_drop_2e-03_to_drop_1e-04/ && \\\n",
      "python ./calc_grad_norms_resnet18siaf_cifar100_clean.py \\\n",
      "    --gpu 1 \\\n",
      "    --directory_with_checkpoints ./Experiments/CONNECTIVITY_RN18C100_lri_0.002_from_drop_2e-03_to_drop_1e-04/ \\\n",
      "    --train_mode 1 && \\\n",
      "python ./linear_interpolation_resnet18_cifar100_clean.py \\\n",
      "    --gpu 1 --elr 0.005 --n_interp 20 --recalc_bn 1 \\\n",
      "    --point_a ./ResNet18_CIFAR100_size64_finetune_high_dlr_2e-03/lr0.005_checkpoint.pt \\\n",
      "    --point_b ./ResNet18_CIFAR100_size64_finetune_low_dlr_1e-04/lr0.005_checkpoint.pt \\\n",
      "    --save ./Experiments/CONNECTIVITY_RN18C100_lri_0.005_from_drop_2e-03_to_drop_1e-04/ && \\\n",
      "python ./calc_grad_norms_resnet18siaf_cifar100_clean.py \\\n",
      "    --gpu 1 \\\n",
      "    --directory_with_checkpoints ./Experiments/CONNECTIVITY_RN18C100_lri_0.005_from_drop_2e-03_to_drop_1e-04/ \\\n",
      "    --train_mode 1 && \\\n",
      "\n",
      "\n",
      "\n",
      "python ./linear_interpolation_resnet18_cifar100_clean.py \\\n",
      "    --gpu 2 --elr 0.01 --n_interp 20 --recalc_bn 1 \\\n",
      "    --point_a ./ResNet18_CIFAR100_size64_finetune_high_dlr_2e-03/lr0.01_checkpoint.pt \\\n",
      "    --point_b ./ResNet18_CIFAR100_size64_finetune_low_dlr_1e-04/lr0.01_checkpoint.pt \\\n",
      "    --save ./Experiments/CONNECTIVITY_RN18C100_lri_0.01_from_drop_2e-03_to_drop_1e-04/ && \\\n",
      "python ./calc_grad_norms_resnet18siaf_cifar100_clean.py \\\n",
      "    --gpu 2 \\\n",
      "    --directory_with_checkpoints ./Experiments/CONNECTIVITY_RN18C100_lri_0.01_from_drop_2e-03_to_drop_1e-04/ \\\n",
      "    --train_mode 1 && \\\n",
      "python ./linear_interpolation_resnet18_cifar100_clean.py \\\n",
      "    --gpu 2 --elr 0.02 --n_interp 20 --recalc_bn 1 \\\n",
      "    --point_a ./ResNet18_CIFAR100_size64_finetune_high_dlr_2e-03/lr0.02_checkpoint.pt \\\n",
      "    --point_b ./ResNet18_CIFAR100_size64_finetune_low_dlr_1e-04/lr0.02_checkpoint.pt \\\n",
      "    --save ./Experiments/CONNECTIVITY_RN18C100_lri_0.02_from_drop_2e-03_to_drop_1e-04/ && \\\n",
      "python ./calc_grad_norms_resnet18siaf_cifar100_clean.py \\\n",
      "    --gpu 2 \\\n",
      "    --directory_with_checkpoints ./Experiments/CONNECTIVITY_RN18C100_lri_0.02_from_drop_2e-03_to_drop_1e-04/ \\\n",
      "    --train_mode 1 && \\\n",
      "python ./linear_interpolation_resnet18_cifar100_clean.py \\\n",
      "    --gpu 2 --elr 0.05 --n_interp 20 --recalc_bn 1 \\\n",
      "    --point_a ./ResNet18_CIFAR100_size64_finetune_high_dlr_2e-03/lr0.05_checkpoint.pt \\\n",
      "    --point_b ./ResNet18_CIFAR100_size64_finetune_low_dlr_1e-04/lr0.05_checkpoint.pt \\\n",
      "    --save ./Experiments/CONNECTIVITY_RN18C100_lri_0.05_from_drop_2e-03_to_drop_1e-04/ && \\\n",
      "python ./calc_grad_norms_resnet18siaf_cifar100_clean.py \\\n",
      "    --gpu 2 \\\n",
      "    --directory_with_checkpoints ./Experiments/CONNECTIVITY_RN18C100_lri_0.05_from_drop_2e-03_to_drop_1e-04/ \\\n",
      "    --train_mode 1 && \\\n",
      "\n",
      "\n",
      "\n",
      "python ./linear_interpolation_resnet18_cifar100_clean.py \\\n",
      "    --gpu 3 --elr 0.1 --n_interp 20 --recalc_bn 1 \\\n",
      "    --point_a ./ResNet18_CIFAR100_size64_finetune_high_dlr_2e-03/lr0.1_checkpoint.pt \\\n",
      "    --point_b ./ResNet18_CIFAR100_size64_finetune_low_dlr_1e-04/lr0.1_checkpoint.pt \\\n",
      "    --save ./Experiments/CONNECTIVITY_RN18C100_lri_0.1_from_drop_2e-03_to_drop_1e-04/ && \\\n",
      "python ./calc_grad_norms_resnet18siaf_cifar100_clean.py \\\n",
      "    --gpu 3 \\\n",
      "    --directory_with_checkpoints ./Experiments/CONNECTIVITY_RN18C100_lri_0.1_from_drop_2e-03_to_drop_1e-04/ \\\n",
      "    --train_mode 1 && \\\n",
      "python ./linear_interpolation_resnet18_cifar100_clean.py \\\n",
      "    --gpu 3 --elr 0.2 --n_interp 20 --recalc_bn 1 \\\n",
      "    --point_a ./ResNet18_CIFAR100_size64_finetune_high_dlr_2e-03/lr0.2_checkpoint.pt \\\n",
      "    --point_b ./ResNet18_CIFAR100_size64_finetune_low_dlr_1e-04/lr0.2_checkpoint.pt \\\n",
      "    --save ./Experiments/CONNECTIVITY_RN18C100_lri_0.2_from_drop_2e-03_to_drop_1e-04/ && \\\n",
      "python ./calc_grad_norms_resnet18siaf_cifar100_clean.py \\\n",
      "    --gpu 3 \\\n",
      "    --directory_with_checkpoints ./Experiments/CONNECTIVITY_RN18C100_lri_0.2_from_drop_2e-03_to_drop_1e-04/ \\\n",
      "    --train_mode 1 && \\\n",
      "python ./linear_interpolation_resnet18_cifar100_clean.py \\\n",
      "    --gpu 3 --elr 0.5 --n_interp 20 --recalc_bn 1 \\\n",
      "    --point_a ./ResNet18_CIFAR100_size64_finetune_high_dlr_2e-03/lr0.5_checkpoint.pt \\\n",
      "    --point_b ./ResNet18_CIFAR100_size64_finetune_low_dlr_1e-04/lr0.5_checkpoint.pt \\\n",
      "    --save ./Experiments/CONNECTIVITY_RN18C100_lri_0.5_from_drop_2e-03_to_drop_1e-04/ && \\\n",
      "python ./calc_grad_norms_resnet18siaf_cifar100_clean.py \\\n",
      "    --gpu 3 \\\n",
      "    --directory_with_checkpoints ./Experiments/CONNECTIVITY_RN18C100_lri_0.5_from_drop_2e-03_to_drop_1e-04/ \\\n",
      "    --train_mode 1 && \\\n",
      "\n",
      "\n",
      "\n"
     ]
    }
   ],
   "source": [
    "spt = 3\n",
    "for i, elr in enumerate(USUAL_ELRS):\n",
    "    gp = (i // spt)\n",
    "    \n",
    "    print(\"\"\"python ./linear_interpolation_resnet18_cifar100_clean.py \\\\\n",
    "    --gpu {} --elr {} --n_interp 20 --recalc_bn 1 \\\\\n",
    "    --point_a ./ResNet18_CIFAR100_size64_finetune_high_dlr_2e-03/lr{}_checkpoint.pt \\\\\n",
    "    --point_b ./ResNet18_CIFAR100_size64_finetune_low_dlr_1e-04/lr{}_checkpoint.pt \\\\\n",
    "    --save ./Experiments/CONNECTIVITY_RN18C100_lri_{}_from_drop_2e-03_to_drop_1e-04/ && \\\\\"\"\".\\\n",
    "         format(gp, elr, \n",
    "                elr, \n",
    "                elr, \n",
    "                elr))\n",
    "    print(\"\"\"python ./calc_grad_norms_resnet18siaf_cifar100_clean.py \\\\\n",
    "    --gpu {} \\\\\n",
    "    --directory_with_checkpoints ./Experiments/CONNECTIVITY_RN18C100_lri_{}_from_drop_2e-03_to_drop_1e-04/ \\\\\n",
    "    --train_mode 1 && \\\\\"\"\".\\\n",
    "         format(gp, \n",
    "                elr))\n",
    "    if i % spt == spt - 1:\n",
    "        print('\\n\\n')"
   ]
  },
  {
   "cell_type": "code",
   "execution_count": 31,
   "id": "086ca6f5",
   "metadata": {
    "ExecuteTime": {
     "end_time": "2024-05-21T06:38:17.528378Z",
     "start_time": "2024-05-21T06:37:25.480063Z"
    }
   },
   "outputs": [
    {
     "name": "stderr",
     "output_type": "stream",
     "text": [
      "100%|████████████████████████████████████████████████████████████████████████████████████████████████████████████████████████████████████████████████████████| 12/12 [00:52<00:00,  4.34s/it]\n"
     ]
    }
   ],
   "source": [
    "interp_drophigh_droplow = dict()\n",
    "for elr in tqdm(USUAL_ELRS): \n",
    "    interp_drophigh_droplow [elr] = dict()\n",
    "    base = './Experiments/CONNECTIVITY_RN18C100_lri_{}_from_drop_2e-03_to_drop_1e-04'\n",
    "    pt_path = base.format(elr)\n",
    "    \n",
    "    interp_drophigh_droplow[elr]['angle'] = read_angle_dist_from_track(pt_path)\n",
    "    \n",
    "    track = read_li_track(pt_path)\n",
    "    interp_drophigh_droplow[elr]['track'] = track\n",
    "    \n",
    "    loss_barrier = track_to_barrier([x['loss_trainmode_train'] for x in track], barrier_is_higher=True)\n",
    "    interp_drophigh_droplow[elr]['loss_barrier'] = loss_barrier\n",
    "    \n",
    "    lossts_barrier = track_to_barrier([x['test_res']['loss'] for x in track], barrier_is_higher=True)\n",
    "    interp_drophigh_droplow[elr]['lossts_barrier'] = lossts_barrier\n",
    "    \n",
    "    testacc_barrier = track_to_barrier([x['test_res']['accuracy'] for x in track], barrier_is_higher=False)\n",
    "    interp_drophigh_droplow[elr]['testacc_barrier'] = testacc_barrier\n",
    "    \n",
    "    loss_barrier = track_to_barrier([x['acc_trainmode_train'] for x in track], barrier_is_higher=False)\n",
    "    interp_drophigh_droplow[elr]['trainacc_barrier'] = loss_barrier"
   ]
  },
  {
   "cell_type": "markdown",
   "id": "3c2af237",
   "metadata": {},
   "source": [
    "# SWA(5) -> DROP(HIGH)"
   ]
  },
  {
   "cell_type": "code",
   "execution_count": 29,
   "id": "76c1cb89",
   "metadata": {
    "ExecuteTime": {
     "end_time": "2024-05-21T04:58:50.453821Z",
     "start_time": "2024-05-21T04:58:50.449753Z"
    },
    "deletable": false,
    "editable": false,
    "scrolled": true
   },
   "outputs": [
    {
     "name": "stdout",
     "output_type": "stream",
     "text": [
      "python ./linear_interpolation_resnet18_cifar100_clean.py \\\n",
      "    --gpu 0 --elr 0.0001 --n_interp 20 --recalc_bn 1 \\\n",
      "    --point_a ./ResNet18_CIFAR100_size64_swa_from_200_for_5/lr0.0001_checkpoint.pt \\\n",
      "    --point_b ./ResNet18_CIFAR100_size64_finetune_high_dlr_2e-03/lr0.0001_checkpoint.pt \\\n",
      "    --save ./Experiments/CONNECTIVITY_RN18C100_lri_0.0001_from_swa_5_to_drop_2e-03/ && \\\n",
      "python ./calc_grad_norms_resnet18siaf_cifar100_clean.py \\\n",
      "    --gpu 0 \\\n",
      "    --directory_with_checkpoints ./Experiments/CONNECTIVITY_RN18C100_lri_0.0001_from_swa_5_to_drop_2e-03/ \\\n",
      "    --train_mode 1 && \\\n",
      "python ./linear_interpolation_resnet18_cifar100_clean.py \\\n",
      "    --gpu 0 --elr 0.0002 --n_interp 20 --recalc_bn 1 \\\n",
      "    --point_a ./ResNet18_CIFAR100_size64_swa_from_200_for_5/lr0.0002_checkpoint.pt \\\n",
      "    --point_b ./ResNet18_CIFAR100_size64_finetune_high_dlr_2e-03/lr0.0002_checkpoint.pt \\\n",
      "    --save ./Experiments/CONNECTIVITY_RN18C100_lri_0.0002_from_swa_5_to_drop_2e-03/ && \\\n",
      "python ./calc_grad_norms_resnet18siaf_cifar100_clean.py \\\n",
      "    --gpu 0 \\\n",
      "    --directory_with_checkpoints ./Experiments/CONNECTIVITY_RN18C100_lri_0.0002_from_swa_5_to_drop_2e-03/ \\\n",
      "    --train_mode 1 && \\\n",
      "python ./linear_interpolation_resnet18_cifar100_clean.py \\\n",
      "    --gpu 0 --elr 0.0005 --n_interp 20 --recalc_bn 1 \\\n",
      "    --point_a ./ResNet18_CIFAR100_size64_swa_from_200_for_5/lr0.0005_checkpoint.pt \\\n",
      "    --point_b ./ResNet18_CIFAR100_size64_finetune_high_dlr_2e-03/lr0.0005_checkpoint.pt \\\n",
      "    --save ./Experiments/CONNECTIVITY_RN18C100_lri_0.0005_from_swa_5_to_drop_2e-03/ && \\\n",
      "python ./calc_grad_norms_resnet18siaf_cifar100_clean.py \\\n",
      "    --gpu 0 \\\n",
      "    --directory_with_checkpoints ./Experiments/CONNECTIVITY_RN18C100_lri_0.0005_from_swa_5_to_drop_2e-03/ \\\n",
      "    --train_mode 1 && \\\n",
      "\n",
      "\n",
      "\n",
      "python ./linear_interpolation_resnet18_cifar100_clean.py \\\n",
      "    --gpu 1 --elr 0.001 --n_interp 20 --recalc_bn 1 \\\n",
      "    --point_a ./ResNet18_CIFAR100_size64_swa_from_200_for_5/lr0.001_checkpoint.pt \\\n",
      "    --point_b ./ResNet18_CIFAR100_size64_finetune_high_dlr_2e-03/lr0.001_checkpoint.pt \\\n",
      "    --save ./Experiments/CONNECTIVITY_RN18C100_lri_0.001_from_swa_5_to_drop_2e-03/ && \\\n",
      "python ./calc_grad_norms_resnet18siaf_cifar100_clean.py \\\n",
      "    --gpu 1 \\\n",
      "    --directory_with_checkpoints ./Experiments/CONNECTIVITY_RN18C100_lri_0.001_from_swa_5_to_drop_2e-03/ \\\n",
      "    --train_mode 1 && \\\n",
      "python ./linear_interpolation_resnet18_cifar100_clean.py \\\n",
      "    --gpu 1 --elr 0.002 --n_interp 20 --recalc_bn 1 \\\n",
      "    --point_a ./ResNet18_CIFAR100_size64_swa_from_200_for_5/lr0.002_checkpoint.pt \\\n",
      "    --point_b ./ResNet18_CIFAR100_size64_finetune_high_dlr_2e-03/lr0.002_checkpoint.pt \\\n",
      "    --save ./Experiments/CONNECTIVITY_RN18C100_lri_0.002_from_swa_5_to_drop_2e-03/ && \\\n",
      "python ./calc_grad_norms_resnet18siaf_cifar100_clean.py \\\n",
      "    --gpu 1 \\\n",
      "    --directory_with_checkpoints ./Experiments/CONNECTIVITY_RN18C100_lri_0.002_from_swa_5_to_drop_2e-03/ \\\n",
      "    --train_mode 1 && \\\n",
      "python ./linear_interpolation_resnet18_cifar100_clean.py \\\n",
      "    --gpu 1 --elr 0.005 --n_interp 20 --recalc_bn 1 \\\n",
      "    --point_a ./ResNet18_CIFAR100_size64_swa_from_200_for_5/lr0.005_checkpoint.pt \\\n",
      "    --point_b ./ResNet18_CIFAR100_size64_finetune_high_dlr_2e-03/lr0.005_checkpoint.pt \\\n",
      "    --save ./Experiments/CONNECTIVITY_RN18C100_lri_0.005_from_swa_5_to_drop_2e-03/ && \\\n",
      "python ./calc_grad_norms_resnet18siaf_cifar100_clean.py \\\n",
      "    --gpu 1 \\\n",
      "    --directory_with_checkpoints ./Experiments/CONNECTIVITY_RN18C100_lri_0.005_from_swa_5_to_drop_2e-03/ \\\n",
      "    --train_mode 1 && \\\n",
      "\n",
      "\n",
      "\n",
      "python ./linear_interpolation_resnet18_cifar100_clean.py \\\n",
      "    --gpu 2 --elr 0.01 --n_interp 20 --recalc_bn 1 \\\n",
      "    --point_a ./ResNet18_CIFAR100_size64_swa_from_200_for_5/lr0.01_checkpoint.pt \\\n",
      "    --point_b ./ResNet18_CIFAR100_size64_finetune_high_dlr_2e-03/lr0.01_checkpoint.pt \\\n",
      "    --save ./Experiments/CONNECTIVITY_RN18C100_lri_0.01_from_swa_5_to_drop_2e-03/ && \\\n",
      "python ./calc_grad_norms_resnet18siaf_cifar100_clean.py \\\n",
      "    --gpu 2 \\\n",
      "    --directory_with_checkpoints ./Experiments/CONNECTIVITY_RN18C100_lri_0.01_from_swa_5_to_drop_2e-03/ \\\n",
      "    --train_mode 1 && \\\n",
      "python ./linear_interpolation_resnet18_cifar100_clean.py \\\n",
      "    --gpu 2 --elr 0.02 --n_interp 20 --recalc_bn 1 \\\n",
      "    --point_a ./ResNet18_CIFAR100_size64_swa_from_200_for_5/lr0.02_checkpoint.pt \\\n",
      "    --point_b ./ResNet18_CIFAR100_size64_finetune_high_dlr_2e-03/lr0.02_checkpoint.pt \\\n",
      "    --save ./Experiments/CONNECTIVITY_RN18C100_lri_0.02_from_swa_5_to_drop_2e-03/ && \\\n",
      "python ./calc_grad_norms_resnet18siaf_cifar100_clean.py \\\n",
      "    --gpu 2 \\\n",
      "    --directory_with_checkpoints ./Experiments/CONNECTIVITY_RN18C100_lri_0.02_from_swa_5_to_drop_2e-03/ \\\n",
      "    --train_mode 1 && \\\n",
      "python ./linear_interpolation_resnet18_cifar100_clean.py \\\n",
      "    --gpu 2 --elr 0.05 --n_interp 20 --recalc_bn 1 \\\n",
      "    --point_a ./ResNet18_CIFAR100_size64_swa_from_200_for_5/lr0.05_checkpoint.pt \\\n",
      "    --point_b ./ResNet18_CIFAR100_size64_finetune_high_dlr_2e-03/lr0.05_checkpoint.pt \\\n",
      "    --save ./Experiments/CONNECTIVITY_RN18C100_lri_0.05_from_swa_5_to_drop_2e-03/ && \\\n",
      "python ./calc_grad_norms_resnet18siaf_cifar100_clean.py \\\n",
      "    --gpu 2 \\\n",
      "    --directory_with_checkpoints ./Experiments/CONNECTIVITY_RN18C100_lri_0.05_from_swa_5_to_drop_2e-03/ \\\n",
      "    --train_mode 1 && \\\n",
      "\n",
      "\n",
      "\n",
      "python ./linear_interpolation_resnet18_cifar100_clean.py \\\n",
      "    --gpu 3 --elr 0.1 --n_interp 20 --recalc_bn 1 \\\n",
      "    --point_a ./ResNet18_CIFAR100_size64_swa_from_200_for_5/lr0.1_checkpoint.pt \\\n",
      "    --point_b ./ResNet18_CIFAR100_size64_finetune_high_dlr_2e-03/lr0.1_checkpoint.pt \\\n",
      "    --save ./Experiments/CONNECTIVITY_RN18C100_lri_0.1_from_swa_5_to_drop_2e-03/ && \\\n",
      "python ./calc_grad_norms_resnet18siaf_cifar100_clean.py \\\n",
      "    --gpu 3 \\\n",
      "    --directory_with_checkpoints ./Experiments/CONNECTIVITY_RN18C100_lri_0.1_from_swa_5_to_drop_2e-03/ \\\n",
      "    --train_mode 1 && \\\n",
      "python ./linear_interpolation_resnet18_cifar100_clean.py \\\n",
      "    --gpu 3 --elr 0.2 --n_interp 20 --recalc_bn 1 \\\n",
      "    --point_a ./ResNet18_CIFAR100_size64_swa_from_200_for_5/lr0.2_checkpoint.pt \\\n",
      "    --point_b ./ResNet18_CIFAR100_size64_finetune_high_dlr_2e-03/lr0.2_checkpoint.pt \\\n",
      "    --save ./Experiments/CONNECTIVITY_RN18C100_lri_0.2_from_swa_5_to_drop_2e-03/ && \\\n",
      "python ./calc_grad_norms_resnet18siaf_cifar100_clean.py \\\n",
      "    --gpu 3 \\\n",
      "    --directory_with_checkpoints ./Experiments/CONNECTIVITY_RN18C100_lri_0.2_from_swa_5_to_drop_2e-03/ \\\n",
      "    --train_mode 1 && \\\n",
      "python ./linear_interpolation_resnet18_cifar100_clean.py \\\n",
      "    --gpu 3 --elr 0.5 --n_interp 20 --recalc_bn 1 \\\n",
      "    --point_a ./ResNet18_CIFAR100_size64_swa_from_200_for_5/lr0.5_checkpoint.pt \\\n",
      "    --point_b ./ResNet18_CIFAR100_size64_finetune_high_dlr_2e-03/lr0.5_checkpoint.pt \\\n",
      "    --save ./Experiments/CONNECTIVITY_RN18C100_lri_0.5_from_swa_5_to_drop_2e-03/ && \\\n",
      "python ./calc_grad_norms_resnet18siaf_cifar100_clean.py \\\n",
      "    --gpu 3 \\\n",
      "    --directory_with_checkpoints ./Experiments/CONNECTIVITY_RN18C100_lri_0.5_from_swa_5_to_drop_2e-03/ \\\n",
      "    --train_mode 1 && \\\n",
      "\n",
      "\n",
      "\n"
     ]
    }
   ],
   "source": [
    "spt = 3\n",
    "for i, elr in enumerate(USUAL_ELRS):\n",
    "    gp = (i // spt)\n",
    "    \n",
    "    print(\"\"\"python ./linear_interpolation_resnet18_cifar100_clean.py \\\\\n",
    "    --gpu {} --elr {} --n_interp 20 --recalc_bn 1 \\\\\n",
    "    --point_a ./ResNet18_CIFAR100_size64_swa_from_200_for_5/lr{}_checkpoint.pt \\\\\n",
    "    --point_b ./ResNet18_CIFAR100_size64_finetune_high_dlr_2e-03/lr{}_checkpoint.pt \\\\\n",
    "    --save ./Experiments/CONNECTIVITY_RN18C100_lri_{}_from_swa_5_to_drop_2e-03/ && \\\\\"\"\".\\\n",
    "         format(gp, elr, \n",
    "                elr, \n",
    "                elr, \n",
    "                elr))\n",
    "    print(\"\"\"python ./calc_grad_norms_resnet18siaf_cifar100_clean.py \\\\\n",
    "    --gpu {} \\\\\n",
    "    --directory_with_checkpoints ./Experiments/CONNECTIVITY_RN18C100_lri_{}_from_swa_5_to_drop_2e-03/ \\\\\n",
    "    --train_mode 1 && \\\\\"\"\".\\\n",
    "         format(gp, \n",
    "                elr))\n",
    "    if i % spt == spt - 1:\n",
    "        print('\\n\\n')"
   ]
  },
  {
   "cell_type": "code",
   "execution_count": 33,
   "id": "aa63b2ab",
   "metadata": {
    "ExecuteTime": {
     "end_time": "2024-05-21T06:39:22.002956Z",
     "start_time": "2024-05-21T06:38:32.611141Z"
    }
   },
   "outputs": [
    {
     "name": "stderr",
     "output_type": "stream",
     "text": [
      "100%|████████████████████████████████████████████████████████████████████████████████████████████████████████████████████████████████████████████████████████| 12/12 [00:49<00:00,  4.12s/it]\n"
     ]
    }
   ],
   "source": [
    "interp_swa5_drophigh = dict()\n",
    "for elr in tqdm(USUAL_ELRS): \n",
    "    interp_swa5_drophigh[elr] = dict()\n",
    "    base = './Experiments/CONNECTIVITY_RN18C100_lri_{}_from_swa_5_to_drop_2e-03'\n",
    "    pt_path = base.format(elr)\n",
    "    \n",
    "    interp_swa5_drophigh[elr]['angle'] = read_angle_dist_from_track(pt_path)\n",
    "    \n",
    "    track = read_li_track(pt_path)\n",
    "    interp_swa5_drophigh[elr]['track'] = track\n",
    "        \n",
    "    loss_barrier = track_to_barrier([x['loss_trainmode_train'] for x in track], barrier_is_higher=True)\n",
    "    interp_swa5_drophigh[elr]['loss_barrier'] = loss_barrier\n",
    "    \n",
    "    lossts_barrier = track_to_barrier([x['test_res']['loss'] for x in track], barrier_is_higher=True)\n",
    "    interp_swa5_drophigh[elr]['lossts_barrier'] = lossts_barrier\n",
    "    \n",
    "    testacc_barrier = track_to_barrier([x['test_res']['accuracy'] for x in track], barrier_is_higher=False)\n",
    "    interp_swa5_drophigh[elr]['testacc_barrier'] = testacc_barrier\n",
    "    \n",
    "    loss_barrier = track_to_barrier([x['acc_trainmode_train'] for x in track], barrier_is_higher=False)\n",
    "    interp_swa5_drophigh[elr]['trainacc_barrier'] = loss_barrier"
   ]
  },
  {
   "cell_type": "markdown",
   "id": "f14c964d",
   "metadata": {},
   "source": [
    "# SWA(5) -> DROP(LOW)"
   ]
  },
  {
   "cell_type": "code",
   "execution_count": 30,
   "id": "1c345483",
   "metadata": {
    "ExecuteTime": {
     "end_time": "2024-05-21T05:42:42.323519Z",
     "start_time": "2024-05-21T05:42:42.318489Z"
    },
    "deletable": false,
    "editable": false,
    "scrolled": true
   },
   "outputs": [
    {
     "name": "stdout",
     "output_type": "stream",
     "text": [
      "python ./linear_interpolation_resnet18_cifar100_clean.py \\\n",
      "    --gpu 0 --elr 0.0001 --n_interp 20 --recalc_bn 1 \\\n",
      "    --point_a ./ResNet18_CIFAR100_size64_swa_from_200_for_5/lr0.0001_checkpoint.pt \\\n",
      "    --point_b ./ResNet18_CIFAR100_size64_finetune_low_dlr_1e-04/lr0.0001_checkpoint.pt \\\n",
      "    --save ./Experiments/CONNECTIVITY_RN18C100_lri_0.0001_from_swa_5_to_drop_1e-04/ && \\\n",
      "python ./calc_grad_norms_resnet18siaf_cifar100_clean.py \\\n",
      "    --gpu 0 \\\n",
      "    --directory_with_checkpoints ./Experiments/CONNECTIVITY_RN18C100_lri_0.0001_from_swa_5_to_drop_1e-04/ \\\n",
      "    --train_mode 1 && \\\n",
      "python ./linear_interpolation_resnet18_cifar100_clean.py \\\n",
      "    --gpu 0 --elr 0.0002 --n_interp 20 --recalc_bn 1 \\\n",
      "    --point_a ./ResNet18_CIFAR100_size64_swa_from_200_for_5/lr0.0002_checkpoint.pt \\\n",
      "    --point_b ./ResNet18_CIFAR100_size64_finetune_low_dlr_1e-04/lr0.0002_checkpoint.pt \\\n",
      "    --save ./Experiments/CONNECTIVITY_RN18C100_lri_0.0002_from_swa_5_to_drop_1e-04/ && \\\n",
      "python ./calc_grad_norms_resnet18siaf_cifar100_clean.py \\\n",
      "    --gpu 0 \\\n",
      "    --directory_with_checkpoints ./Experiments/CONNECTIVITY_RN18C100_lri_0.0002_from_swa_5_to_drop_1e-04/ \\\n",
      "    --train_mode 1 && \\\n",
      "python ./linear_interpolation_resnet18_cifar100_clean.py \\\n",
      "    --gpu 0 --elr 0.0005 --n_interp 20 --recalc_bn 1 \\\n",
      "    --point_a ./ResNet18_CIFAR100_size64_swa_from_200_for_5/lr0.0005_checkpoint.pt \\\n",
      "    --point_b ./ResNet18_CIFAR100_size64_finetune_low_dlr_1e-04/lr0.0005_checkpoint.pt \\\n",
      "    --save ./Experiments/CONNECTIVITY_RN18C100_lri_0.0005_from_swa_5_to_drop_1e-04/ && \\\n",
      "python ./calc_grad_norms_resnet18siaf_cifar100_clean.py \\\n",
      "    --gpu 0 \\\n",
      "    --directory_with_checkpoints ./Experiments/CONNECTIVITY_RN18C100_lri_0.0005_from_swa_5_to_drop_1e-04/ \\\n",
      "    --train_mode 1 && \\\n",
      "\n",
      "\n",
      "\n",
      "python ./linear_interpolation_resnet18_cifar100_clean.py \\\n",
      "    --gpu 1 --elr 0.001 --n_interp 20 --recalc_bn 1 \\\n",
      "    --point_a ./ResNet18_CIFAR100_size64_swa_from_200_for_5/lr0.001_checkpoint.pt \\\n",
      "    --point_b ./ResNet18_CIFAR100_size64_finetune_low_dlr_1e-04/lr0.001_checkpoint.pt \\\n",
      "    --save ./Experiments/CONNECTIVITY_RN18C100_lri_0.001_from_swa_5_to_drop_1e-04/ && \\\n",
      "python ./calc_grad_norms_resnet18siaf_cifar100_clean.py \\\n",
      "    --gpu 1 \\\n",
      "    --directory_with_checkpoints ./Experiments/CONNECTIVITY_RN18C100_lri_0.001_from_swa_5_to_drop_1e-04/ \\\n",
      "    --train_mode 1 && \\\n",
      "python ./linear_interpolation_resnet18_cifar100_clean.py \\\n",
      "    --gpu 1 --elr 0.002 --n_interp 20 --recalc_bn 1 \\\n",
      "    --point_a ./ResNet18_CIFAR100_size64_swa_from_200_for_5/lr0.002_checkpoint.pt \\\n",
      "    --point_b ./ResNet18_CIFAR100_size64_finetune_low_dlr_1e-04/lr0.002_checkpoint.pt \\\n",
      "    --save ./Experiments/CONNECTIVITY_RN18C100_lri_0.002_from_swa_5_to_drop_1e-04/ && \\\n",
      "python ./calc_grad_norms_resnet18siaf_cifar100_clean.py \\\n",
      "    --gpu 1 \\\n",
      "    --directory_with_checkpoints ./Experiments/CONNECTIVITY_RN18C100_lri_0.002_from_swa_5_to_drop_1e-04/ \\\n",
      "    --train_mode 1 && \\\n",
      "python ./linear_interpolation_resnet18_cifar100_clean.py \\\n",
      "    --gpu 1 --elr 0.005 --n_interp 20 --recalc_bn 1 \\\n",
      "    --point_a ./ResNet18_CIFAR100_size64_swa_from_200_for_5/lr0.005_checkpoint.pt \\\n",
      "    --point_b ./ResNet18_CIFAR100_size64_finetune_low_dlr_1e-04/lr0.005_checkpoint.pt \\\n",
      "    --save ./Experiments/CONNECTIVITY_RN18C100_lri_0.005_from_swa_5_to_drop_1e-04/ && \\\n",
      "python ./calc_grad_norms_resnet18siaf_cifar100_clean.py \\\n",
      "    --gpu 1 \\\n",
      "    --directory_with_checkpoints ./Experiments/CONNECTIVITY_RN18C100_lri_0.005_from_swa_5_to_drop_1e-04/ \\\n",
      "    --train_mode 1 && \\\n",
      "\n",
      "\n",
      "\n",
      "python ./linear_interpolation_resnet18_cifar100_clean.py \\\n",
      "    --gpu 2 --elr 0.01 --n_interp 20 --recalc_bn 1 \\\n",
      "    --point_a ./ResNet18_CIFAR100_size64_swa_from_200_for_5/lr0.01_checkpoint.pt \\\n",
      "    --point_b ./ResNet18_CIFAR100_size64_finetune_low_dlr_1e-04/lr0.01_checkpoint.pt \\\n",
      "    --save ./Experiments/CONNECTIVITY_RN18C100_lri_0.01_from_swa_5_to_drop_1e-04/ && \\\n",
      "python ./calc_grad_norms_resnet18siaf_cifar100_clean.py \\\n",
      "    --gpu 2 \\\n",
      "    --directory_with_checkpoints ./Experiments/CONNECTIVITY_RN18C100_lri_0.01_from_swa_5_to_drop_1e-04/ \\\n",
      "    --train_mode 1 && \\\n",
      "python ./linear_interpolation_resnet18_cifar100_clean.py \\\n",
      "    --gpu 2 --elr 0.02 --n_interp 20 --recalc_bn 1 \\\n",
      "    --point_a ./ResNet18_CIFAR100_size64_swa_from_200_for_5/lr0.02_checkpoint.pt \\\n",
      "    --point_b ./ResNet18_CIFAR100_size64_finetune_low_dlr_1e-04/lr0.02_checkpoint.pt \\\n",
      "    --save ./Experiments/CONNECTIVITY_RN18C100_lri_0.02_from_swa_5_to_drop_1e-04/ && \\\n",
      "python ./calc_grad_norms_resnet18siaf_cifar100_clean.py \\\n",
      "    --gpu 2 \\\n",
      "    --directory_with_checkpoints ./Experiments/CONNECTIVITY_RN18C100_lri_0.02_from_swa_5_to_drop_1e-04/ \\\n",
      "    --train_mode 1 && \\\n",
      "python ./linear_interpolation_resnet18_cifar100_clean.py \\\n",
      "    --gpu 2 --elr 0.05 --n_interp 20 --recalc_bn 1 \\\n",
      "    --point_a ./ResNet18_CIFAR100_size64_swa_from_200_for_5/lr0.05_checkpoint.pt \\\n",
      "    --point_b ./ResNet18_CIFAR100_size64_finetune_low_dlr_1e-04/lr0.05_checkpoint.pt \\\n",
      "    --save ./Experiments/CONNECTIVITY_RN18C100_lri_0.05_from_swa_5_to_drop_1e-04/ && \\\n",
      "python ./calc_grad_norms_resnet18siaf_cifar100_clean.py \\\n",
      "    --gpu 2 \\\n",
      "    --directory_with_checkpoints ./Experiments/CONNECTIVITY_RN18C100_lri_0.05_from_swa_5_to_drop_1e-04/ \\\n",
      "    --train_mode 1 && \\\n",
      "\n",
      "\n",
      "\n",
      "python ./linear_interpolation_resnet18_cifar100_clean.py \\\n",
      "    --gpu 3 --elr 0.1 --n_interp 20 --recalc_bn 1 \\\n",
      "    --point_a ./ResNet18_CIFAR100_size64_swa_from_200_for_5/lr0.1_checkpoint.pt \\\n",
      "    --point_b ./ResNet18_CIFAR100_size64_finetune_low_dlr_1e-04/lr0.1_checkpoint.pt \\\n",
      "    --save ./Experiments/CONNECTIVITY_RN18C100_lri_0.1_from_swa_5_to_drop_1e-04/ && \\\n",
      "python ./calc_grad_norms_resnet18siaf_cifar100_clean.py \\\n",
      "    --gpu 3 \\\n",
      "    --directory_with_checkpoints ./Experiments/CONNECTIVITY_RN18C100_lri_0.1_from_swa_5_to_drop_1e-04/ \\\n",
      "    --train_mode 1 && \\\n",
      "python ./linear_interpolation_resnet18_cifar100_clean.py \\\n",
      "    --gpu 3 --elr 0.2 --n_interp 20 --recalc_bn 1 \\\n",
      "    --point_a ./ResNet18_CIFAR100_size64_swa_from_200_for_5/lr0.2_checkpoint.pt \\\n",
      "    --point_b ./ResNet18_CIFAR100_size64_finetune_low_dlr_1e-04/lr0.2_checkpoint.pt \\\n",
      "    --save ./Experiments/CONNECTIVITY_RN18C100_lri_0.2_from_swa_5_to_drop_1e-04/ && \\\n",
      "python ./calc_grad_norms_resnet18siaf_cifar100_clean.py \\\n",
      "    --gpu 3 \\\n",
      "    --directory_with_checkpoints ./Experiments/CONNECTIVITY_RN18C100_lri_0.2_from_swa_5_to_drop_1e-04/ \\\n",
      "    --train_mode 1 && \\\n",
      "python ./linear_interpolation_resnet18_cifar100_clean.py \\\n",
      "    --gpu 3 --elr 0.5 --n_interp 20 --recalc_bn 1 \\\n",
      "    --point_a ./ResNet18_CIFAR100_size64_swa_from_200_for_5/lr0.5_checkpoint.pt \\\n",
      "    --point_b ./ResNet18_CIFAR100_size64_finetune_low_dlr_1e-04/lr0.5_checkpoint.pt \\\n",
      "    --save ./Experiments/CONNECTIVITY_RN18C100_lri_0.5_from_swa_5_to_drop_1e-04/ && \\\n",
      "python ./calc_grad_norms_resnet18siaf_cifar100_clean.py \\\n",
      "    --gpu 3 \\\n",
      "    --directory_with_checkpoints ./Experiments/CONNECTIVITY_RN18C100_lri_0.5_from_swa_5_to_drop_1e-04/ \\\n",
      "    --train_mode 1 && \\\n",
      "\n",
      "\n",
      "\n"
     ]
    }
   ],
   "source": [
    "spt = 3\n",
    "for i, elr in enumerate(USUAL_ELRS):\n",
    "    gp = (i // spt)\n",
    "    \n",
    "    print(\"\"\"python ./linear_interpolation_resnet18_cifar100_clean.py \\\\\n",
    "    --gpu {} --elr {} --n_interp 20 --recalc_bn 1 \\\\\n",
    "    --point_a ./ResNet18_CIFAR100_size64_swa_from_200_for_5/lr{}_checkpoint.pt \\\\\n",
    "    --point_b ./ResNet18_CIFAR100_size64_finetune_low_dlr_1e-04/lr{}_checkpoint.pt \\\\\n",
    "    --save ./Experiments/CONNECTIVITY_RN18C100_lri_{}_from_swa_5_to_drop_1e-04/ && \\\\\"\"\".\\\n",
    "         format(gp, elr, \n",
    "                elr, \n",
    "                elr, \n",
    "                elr))\n",
    "    print(\"\"\"python ./calc_grad_norms_resnet18siaf_cifar100_clean.py \\\\\n",
    "    --gpu {} \\\\\n",
    "    --directory_with_checkpoints ./Experiments/CONNECTIVITY_RN18C100_lri_{}_from_swa_5_to_drop_1e-04/ \\\\\n",
    "    --train_mode 1 && \\\\\"\"\".\\\n",
    "         format(gp, \n",
    "                elr))\n",
    "    if i % spt == spt - 1:\n",
    "        print('\\n\\n')"
   ]
  },
  {
   "cell_type": "code",
   "execution_count": 34,
   "id": "f9d7efe3",
   "metadata": {
    "ExecuteTime": {
     "end_time": "2024-05-21T06:40:26.171158Z",
     "start_time": "2024-05-21T06:39:33.702634Z"
    }
   },
   "outputs": [
    {
     "name": "stderr",
     "output_type": "stream",
     "text": [
      "100%|████████████████████████████████████████████████████████████████████████████████████████████████████████████████████████████████████████████████████████| 12/12 [00:52<00:00,  4.37s/it]\n"
     ]
    }
   ],
   "source": [
    "interp_swa5_droplow = dict()\n",
    "for elr in tqdm(USUAL_ELRS): \n",
    "    interp_swa5_droplow[elr] = dict()\n",
    "    base = './Experiments/CONNECTIVITY_RN18C100_lri_{}_from_swa_5_to_drop_1e-04'\n",
    "    pt_path = base.format(elr)\n",
    "    \n",
    "    interp_swa5_droplow[elr]['angle'] = read_angle_dist_from_track(pt_path)\n",
    "    \n",
    "    track = read_li_track(pt_path)\n",
    "    interp_swa5_droplow[elr]['track'] = track\n",
    "    \n",
    "    loss_barrier = track_to_barrier([x['loss_trainmode_train'] for x in track], barrier_is_higher=True)\n",
    "    interp_swa5_droplow[elr]['loss_barrier'] = loss_barrier\n",
    "    \n",
    "    lossts_barrier = track_to_barrier([x['test_res']['loss'] for x in track], barrier_is_higher=True)\n",
    "    interp_swa5_droplow[elr]['lossts_barrier'] = lossts_barrier\n",
    "    \n",
    "    testacc_barrier = track_to_barrier([x['test_res']['accuracy'] for x in track], barrier_is_higher=False)\n",
    "    interp_swa5_droplow[elr]['testacc_barrier'] = testacc_barrier\n",
    "    \n",
    "    loss_barrier = track_to_barrier([x['acc_trainmode_train'] for x in track], barrier_is_higher=False)\n",
    "    interp_swa5_droplow[elr]['trainacc_barrier'] = loss_barrier"
   ]
  },
  {
   "cell_type": "markdown",
   "id": "f286e85e",
   "metadata": {},
   "source": [
    "# dump to the disk"
   ]
  },
  {
   "cell_type": "code",
   "execution_count": 35,
   "id": "6c4bdbec",
   "metadata": {
    "ExecuteTime": {
     "end_time": "2024-05-21T06:40:26.180935Z",
     "start_time": "2024-05-21T06:40:26.175836Z"
    }
   },
   "outputs": [],
   "source": [
    "barrier_setups = dict()\n",
    "barrier_setups['interp_drophigh_droplow'] = interp_drophigh_droplow\n",
    "barrier_setups['interp_swa5_drophigh'] = interp_swa5_drophigh\n",
    "barrier_setups['interp_swa5_droplow'] = interp_swa5_droplow"
   ]
  },
  {
   "cell_type": "code",
   "execution_count": 36,
   "id": "39cb9ae9",
   "metadata": {
    "ExecuteTime": {
     "end_time": "2024-05-21T06:40:28.223814Z",
     "start_time": "2024-05-21T06:40:28.212354Z"
    }
   },
   "outputs": [],
   "source": [
    "with open('./resnet18_w64_cifar100_barrier_setups.pkl', 'wb') as f:\n",
    "    pickle.dump(barrier_setups, f)"
   ]
  },
  {
   "cell_type": "code",
   "execution_count": null,
   "id": "a899115a",
   "metadata": {},
   "outputs": [],
   "source": []
  },
  {
   "cell_type": "code",
   "execution_count": null,
   "id": "1a32a848",
   "metadata": {},
   "outputs": [],
   "source": []
  }
 ],
 "metadata": {
  "kernelspec": {
   "display_name": "Python (venv_gpu)",
   "language": "python",
   "name": "venv_gpu"
  },
  "language_info": {
   "codemirror_mode": {
    "name": "ipython",
    "version": 3
   },
   "file_extension": ".py",
   "mimetype": "text/x-python",
   "name": "python",
   "nbconvert_exporter": "python",
   "pygments_lexer": "ipython3",
   "version": "3.11.0"
  },
  "toc": {
   "base_numbering": 1,
   "nav_menu": {},
   "number_sections": true,
   "sideBar": true,
   "skip_h1_title": false,
   "title_cell": "Table of Contents",
   "title_sidebar": "Contents",
   "toc_cell": true,
   "toc_position": {},
   "toc_section_display": true,
   "toc_window_display": false
  }
 },
 "nbformat": 4,
 "nbformat_minor": 5
}
