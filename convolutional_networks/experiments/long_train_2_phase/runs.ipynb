{
 "cells": [
  {
   "cell_type": "markdown",
   "id": "be03ca80",
   "metadata": {},
   "source": [
    "# Trainings for ResNet18 SI"
   ]
  },
  {
   "cell_type": "code",
   "execution_count": null,
   "id": "6850c612",
   "metadata": {},
   "outputs": [],
   "source": [
    "python train_drop_resnetsi_cifar_clean.py --gpu 0 \\\n",
    "    --init_elr 0.000427 --drop_elr 0.000427 --drop_epoch 30001 --seed 1001 --freq 10\n",
    "python train_drop_resnetsi_cifar_clean.py --gpu 1 \\\n",
    "    --init_elr 0.000427 --drop_elr 0.000427 --drop_epoch 30001 --seed 1002 --freq 10\n",
    "python train_drop_resnetsi_cifar_clean.py --gpu 2 \\\n",
    "    --init_elr 0.000427 --drop_elr 0.000427 --drop_epoch 30001 --seed 1003 --freq 10\n",
    "\n",
    "python train_drop_resnetsi_cifar_clean.py --gpu 3 \\\n",
    "    --init_elr 0.00042 --drop_elr 0.00042 --drop_epoch 30001 --seed 1011 --freq 10\n",
    "python train_drop_resnetsi_cifar_clean.py --gpu 4 \\\n",
    "    --init_elr 0.00042 --drop_elr 0.00042 --drop_epoch 30001 --seed 1012 --freq 10\n",
    "python train_drop_resnetsi_cifar_clean.py --gpu 5 \\\n",
    "    --init_elr 0.00042 --drop_elr 0.00042 --drop_epoch 30001 --seed 1013 --freq 10"
   ]
  },
  {
   "cell_type": "code",
   "execution_count": null,
   "id": "c39eeacc",
   "metadata": {},
   "outputs": [],
   "source": [
    "python train_drop_resnetsi_cifar_clean.py --gpu 0 \\\n",
    "    --init_elr 0.0001 --drop_elr 0.0001 --drop_epoch 30001 --seed 1002 --freq 1 && \\\n",
    "python train_drop_resnetsi_cifar_clean.py --gpu 0 \\\n",
    "    --init_elr 0.00015 --drop_elr 0.00015 --drop_epoch 30001 --seed 1003 --freq 1 && \\\n",
    "python train_drop_resnetsi_cifar_clean.py --gpu 0 \\\n",
    "    --init_elr 0.0002 --drop_elr 0.0002 --drop_epoch 30001 --seed 1004 --freq 1 && \\\n",
    "python train_drop_resnetsi_cifar_clean.py --gpu 0 \\\n",
    "    --init_elr 0.00025 --drop_elr 0.00025 --drop_epoch 30001 --seed 1005 --freq 1 && \\\n",
    "python train_drop_resnetsi_cifar_clean.py --gpu 0 \\\n",
    "    --init_elr 0.0003 --drop_elr 0.0003 --drop_epoch 30001 --seed 1006 --freq 1 && \\\n",
    "python train_drop_resnetsi_cifar_clean.py --gpu 0 \\\n",
    "    --init_elr 0.00035 --drop_elr 0.00035 --drop_epoch 30001 --seed 1007 --freq 1 && \\\n",
    "python train_drop_resnetsi_cifar_clean.py --gpu 0 \\\n",
    "    --init_elr 0.00037 --drop_elr 0.00037 --drop_epoch 30001 --seed 1008 --freq 5 && \\\n",
    "python train_drop_resnetsi_cifar_clean.py --gpu 0 \\\n",
    "    --init_elr 0.00038 --drop_elr 0.00038 --drop_epoch 30001 --seed 1009 --freq 10 && \\\n",
    "python train_drop_resnetsi_cifar_clean.py --gpu 0 \\\n",
    "    --init_elr 0.00039 --drop_elr 0.00039 --drop_epoch 30001 --seed 1010 --freq 10 && \\\n",
    "python train_drop_resnetsi_cifar_clean.py --gpu 0 \\\n",
    "    --init_elr 0.0004 --drop_elr 0.0004 --drop_epoch 30001 --seed 1011 --freq 10\n",
    "\n",
    "\n",
    "python train_drop_resnetsi_cifar_clean.py --gpu 1 \\\n",
    "    --init_elr 0.0001 --drop_elr 0.0001 --drop_epoch 30001 --seed 1102 --freq 1 && \\\n",
    "python train_drop_resnetsi_cifar_clean.py --gpu 1 \\\n",
    "    --init_elr 0.00015 --drop_elr 0.00015 --drop_epoch 30001 --seed 1103 --freq 1 && \\\n",
    "python train_drop_resnetsi_cifar_clean.py --gpu 1 \\\n",
    "    --init_elr 0.0002 --drop_elr 0.0002 --drop_epoch 30001 --seed 1104 --freq 1 && \\\n",
    "python train_drop_resnetsi_cifar_clean.py --gpu 1 \\\n",
    "    --init_elr 0.00025 --drop_elr 0.00025 --drop_epoch 30001 --seed 1105 --freq 1 && \\\n",
    "python train_drop_resnetsi_cifar_clean.py --gpu 1 \\\n",
    "    --init_elr 0.0003 --drop_elr 0.0003 --drop_epoch 30001 --seed 1106 --freq 1 && \\\n",
    "python train_drop_resnetsi_cifar_clean.py --gpu 1 \\\n",
    "    --init_elr 0.00035 --drop_elr 0.00035 --drop_epoch 30001 --seed 1107 --freq 1 && \\\n",
    "python train_drop_resnetsi_cifar_clean.py --gpu 1 \\\n",
    "    --init_elr 0.00037 --drop_elr 0.00037 --drop_epoch 30001 --seed 1108 --freq 5 && \\\n",
    "python train_drop_resnetsi_cifar_clean.py --gpu 1 \\\n",
    "    --init_elr 0.00038 --drop_elr 0.00038 --drop_epoch 30001 --seed 1109 --freq 10 && \\\n",
    "python train_drop_resnetsi_cifar_clean.py --gpu 1 \\\n",
    "    --init_elr 0.00039 --drop_elr 0.00039 --drop_epoch 30001 --seed 1110 --freq 10 && \\\n",
    "python train_drop_resnetsi_cifar_clean.py --gpu 1 \\\n",
    "    --init_elr 0.0004 --drop_elr 0.0004 --drop_epoch 30001 --seed 1111 --freq 10\n",
    "\n",
    "python train_drop_resnetsi_cifar_clean.py --gpu 2 \\\n",
    "    --init_elr 0.0001 --drop_elr 0.0001 --drop_epoch 30001 --seed 1202 --freq 1 && \\\n",
    "python train_drop_resnetsi_cifar_clean.py --gpu 2 \\\n",
    "    --init_elr 0.00015 --drop_elr 0.00015 --drop_epoch 30001 --seed 1203 --freq 1 && \\\n",
    "python train_drop_resnetsi_cifar_clean.py --gpu 2 \\\n",
    "    --init_elr 0.0002 --drop_elr 0.0002 --drop_epoch 30001 --seed 1204 --freq 1 && \\\n",
    "python train_drop_resnetsi_cifar_clean.py --gpu 2 \\\n",
    "    --init_elr 0.00025 --drop_elr 0.00025 --drop_epoch 30001 --seed 1205 --freq 1 && \\\n",
    "python train_drop_resnetsi_cifar_clean.py --gpu 2 \\\n",
    "    --init_elr 0.0003 --drop_elr 0.0003 --drop_epoch 30001 --seed 1206 --freq 1 && \\\n",
    "python train_drop_resnetsi_cifar_clean.py --gpu 2 \\\n",
    "    --init_elr 0.00035 --drop_elr 0.00035 --drop_epoch 30001 --seed 1207 --freq 1 && \\\n",
    "python train_drop_resnetsi_cifar_clean.py --gpu 2 \\\n",
    "    --init_elr 0.00037 --drop_elr 0.00037 --drop_epoch 30001 --seed 1208 --freq 5 && \\\n",
    "python train_drop_resnetsi_cifar_clean.py --gpu 2 \\\n",
    "    --init_elr 0.00038 --drop_elr 0.00038 --drop_epoch 30001 --seed 1209 --freq 10 && \\\n",
    "python train_drop_resnetsi_cifar_clean.py --gpu 2 \\\n",
    "    --init_elr 0.00039 --drop_elr 0.00039 --drop_epoch 30001 --seed 1210 --freq 10 && \\\n",
    "python train_drop_resnetsi_cifar_clean.py --gpu 2 \\\n",
    "    --init_elr 0.0004 --drop_elr 0.0004 --drop_epoch 30001 --seed 1211 --freq 10"
   ]
  },
  {
   "cell_type": "code",
   "execution_count": null,
   "id": "b6084149",
   "metadata": {},
   "outputs": [],
   "source": []
  },
  {
   "cell_type": "code",
   "execution_count": null,
   "id": "1f68f3cc",
   "metadata": {},
   "outputs": [],
   "source": [
    "python train_drop_resnet18si_cifar10_clean_from_starting_point.py \\                                 \n",
    "    --gpu 6 \\                                                                                                                                                                                                  \n",
    "    --init_checkpoint ./Experiments/ResNet18SI_CIFAR10_elri_0.00038_elrd_0.00038_dropepoch_30001_wd_0.0_seed_1009_noaug_True/checkpoint-1910.pt \\                                                              \n",
    "    --init_elr 0.00038 \\                                                                                                                                                                                       \n",
    "    --drop_elr 0.00038 \\                                                                                                                                                                                       \n",
    "    --drop_epoch 1910 \\                                                                                                                                                                                        \n",
    "    --k_epoch 100 \\                                                                                                                                                                                            \n",
    "    --seed 1009 \\                                                                                                                                                                                              \n",
    "    --wd 0 --aug 0 && \\                                                                                                                                                                                        \n",
    "python train_drop_resnet18si_cifar10_clean_from_starting_point.py \\                                                                                                                                            \n",
    "    --gpu 6 \\                                                                                                                                                                                                  \n",
    "    --init_checkpoint ./Experiments/ResNet18SI_CIFAR10_elri_0.00038_elrd_0.00038_dropepoch_30001_wd_0.0_seed_1109_noaug_True/checkpoint-1540.pt \\                                                              \n",
    "    --init_elr 0.00038 \\                                                                                                                                                                                       \n",
    "    --drop_elr 0.00038 \\                                                                                                                                                                                       \n",
    "    --drop_epoch 1540 \\                                                                                                                                                                                        \n",
    "    --k_epoch 100 \\                                                                                                                                                                                            \n",
    "    --seed 1109 \\                                                                                                                                                                                              \n",
    "    --wd 0 --aug 0 && \\                                                                                                                                                                                        \n",
    "python train_drop_resnet18si_cifar10_clean_from_starting_point.py \\                                                                                                                                            \n",
    "    --gpu 6 \\                                                                                                                                                                                                  \n",
    "    --init_checkpoint ./Experiments/ResNet18SI_CIFAR10_elri_0.00039_elrd_0.00039_dropepoch_30001_wd_0.0_seed_1010_noaug_True/checkpoint-2620.pt \\                                                              \n",
    "    --init_elr 0.00039 \\                                                                                                                                                                                       \n",
    "    --drop_elr 0.00039 \\                                                                                                                                                                                       \n",
    "    --drop_epoch 2620 \\                                                                                                                                                                                        \n",
    "    --k_epoch 100 \\                                                                                                                                                                                            \n",
    "    --seed 1010 \\                                                                                                                                                                                              \n",
    "    --wd 0 --aug 0"
   ]
  },
  {
   "cell_type": "markdown",
   "id": "5ebe5cca",
   "metadata": {},
   "source": [
    "# imports"
   ]
  },
  {
   "cell_type": "code",
   "execution_count": null,
   "id": "460f676a",
   "metadata": {
    "ExecuteTime": {
     "end_time": "2024-05-22T03:45:31.105388Z",
     "start_time": "2024-05-22T03:45:31.102403Z"
    }
   },
   "outputs": [],
   "source": [
    "from matplotlib import pyplot as plt\n",
    "import os\n",
    "import json\n",
    "import torch\n",
    "from glob import glob\n",
    "from tqdm import tqdm"
   ]
  },
  {
   "cell_type": "code",
   "execution_count": null,
   "id": "dc7600fd",
   "metadata": {
    "ExecuteTime": {
     "end_time": "2024-05-22T04:03:00.473702Z",
     "start_time": "2024-05-22T04:02:46.436585Z"
    },
    "scrolled": false
   },
   "outputs": [],
   "source": [
    "xs = []\n",
    "ys = []\n",
    "testaccs = []\n",
    "for sd, elr in tqdm(enumerate([0.0001, 0.00015, 0.0002, 0.00025, 0.0003, 0.00035, 0.00037, 0.00038, 0.00039])):\n",
    "    for addseed in [1000, 1100, 1200]:\n",
    "        pth = './Experiments/FIXEDINIT_DROP_ResNet18SI_CIFAR10_elri_{}_elrd_{}_dropepochfrom_*_wd_0.0_seed_{}_noaug_True/'.format(elr, elr, sd + 2 + addseed)\n",
    "        glbmask = glob(pth)\n",
    "        if glbmask:\n",
    "            mainpth = glbmask[0] + 'checkpoint-*.pt'\n",
    "            ckptlst = glob(mainpth)\n",
    "            eps = list(sorted(map(int, sorted([os.path.basename(x).split('-')[1].split('.')[0] for x in ckptlst]))))\n",
    "\n",
    "            for ep in eps:\n",
    "                dd = torch.load(glbmask[0] + 'checkpoint-{}.pt'.format(ep))\n",
    "\n",
    "                if dd['train_res']['loss'] < 1e-2:\n",
    "                    \n",
    "                    xs.append(elr)\n",
    "                    ys.append(ep)\n",
    "                    testaccs.append(dd['test_res']['accuracy'])\n",
    "                    break\n",
    "        else:\n",
    "            print('skip {}'.format(pth))"
   ]
  },
  {
   "cell_type": "markdown",
   "id": "bbac4ce2",
   "metadata": {},
   "source": [
    "# necessary runs"
   ]
  },
  {
   "cell_type": "code",
   "execution_count": null,
   "id": "338c60e5",
   "metadata": {},
   "outputs": [],
   "source": [
    "python ./../drops_with_clean_cifar10/calc_grad_norms_resnet18si_cifar_clean.py \\\n",
    "    --gpu 3 \\\n",
    "    --directory_with_checkpoints ./Experiments/ResNet18SI_CIFAR10_elri_0.00037_elrd_0.00037_dropepoch_30001_wd_0.0_seed_1008_noaug_True/checkpoint-505.pt \\\n",
    "    --loader test --aug 0 --train_mode 0 && \\\n",
    "python ./../drops_with_clean_cifar10/calc_grad_norms_resnet18si_cifar_clean.py \\\n",
    "    --gpu 3 \\\n",
    "    --directory_with_checkpoints ./Experiments/ResNet18SI_CIFAR10_elri_0.00037_elrd_0.00037_dropepoch_30001_wd_0.0_seed_1108_noaug_True/checkpoint-810.pt \\\n",
    "    --loader test --aug 0 --train_mode 0 && \\\n",
    "python ./../drops_with_clean_cifar10/calc_grad_norms_resnet18si_cifar_clean.py \\\n",
    "    --gpu 3 \\\n",
    "    --directory_with_checkpoints ./Experiments/ResNet18SI_CIFAR10_elri_0.00037_elrd_0.00037_dropepoch_30001_wd_0.0_seed_1208_noaug_True/checkpoint-1105.pt \\\n",
    "    --loader test --aug 0 --train_mode 0 && \\\n",
    "python ./../drops_with_clean_cifar10/calc_grad_norms_resnet18si_cifar_clean.py \\\n",
    "    --gpu 3 \\\n",
    "    --directory_with_checkpoints ./Experiments/ResNet18SI_CIFAR10_elri_0.00038_elrd_0.00038_dropepoch_30001_wd_0.0_seed_1009_noaug_True/checkpoint-1920.pt \\\n",
    "    --loader test --aug 0 --train_mode 0"
   ]
  },
  {
   "cell_type": "code",
   "execution_count": null,
   "id": "b0a292c9",
   "metadata": {
    "ExecuteTime": {
     "end_time": "2024-05-22T04:03:03.535698Z",
     "start_time": "2024-05-22T04:03:03.531425Z"
    }
   },
   "outputs": [],
   "source": [
    "xs, ys, testaccs"
   ]
  },
  {
   "cell_type": "code",
   "execution_count": null,
   "id": "1cf07775",
   "metadata": {},
   "outputs": [],
   "source": []
  },
  {
   "cell_type": "code",
   "execution_count": null,
   "id": "fc53627a",
   "metadata": {},
   "outputs": [],
   "source": []
  }
 ],
 "metadata": {
  "kernelspec": {
   "display_name": "Python (venv_gpu)",
   "language": "python",
   "name": "venv_gpu"
  },
  "language_info": {
   "codemirror_mode": {
    "name": "ipython",
    "version": 3
   },
   "file_extension": ".py",
   "mimetype": "text/x-python",
   "name": "python",
   "nbconvert_exporter": "python",
   "pygments_lexer": "ipython3",
   "version": "3.11.0"
  },
  "toc": {
   "base_numbering": 1,
   "nav_menu": {},
   "number_sections": true,
   "sideBar": true,
   "skip_h1_title": false,
   "title_cell": "Table of Contents",
   "title_sidebar": "Contents",
   "toc_cell": true,
   "toc_position": {},
   "toc_section_display": true,
   "toc_window_display": false
  }
 },
 "nbformat": 4,
 "nbformat_minor": 5
}
