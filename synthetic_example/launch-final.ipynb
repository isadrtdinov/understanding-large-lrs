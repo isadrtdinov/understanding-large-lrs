{
 "cells": [
  {
   "cell_type": "code",
   "execution_count": null,
   "id": "9a756c8f",
   "metadata": {},
   "outputs": [],
   "source": [
    "%load_ext autoreload\n",
    "%autoreload 2"
   ]
  },
  {
   "cell_type": "code",
   "execution_count": null,
   "id": "44ea0149",
   "metadata": {},
   "outputs": [],
   "source": [
    "import json\n",
    "import torch\n",
    "import numpy as np\n",
    "from types import SimpleNamespace\n",
    "from scripts import launch_pretraining, launch_finetuning\n",
    "\n",
    "import seaborn as sns\n",
    "import matplotlib.pyplot as plt\n",
    "from tqdm.notebook import tqdm\n",
    "from IPython.display import clear_output"
   ]
  },
  {
   "cell_type": "code",
   "execution_count": null,
   "id": "907572e2",
   "metadata": {},
   "outputs": [],
   "source": [
    "device = torch.device('cpu')\n",
    "device"
   ]
  },
  {
   "cell_type": "code",
   "execution_count": null,
   "id": "a0d9c8fc",
   "metadata": {},
   "outputs": [],
   "source": [
    "def get_config(data_seed, train_seed, f):\n",
    "    seed = data_seed * 100 + train_seed\n",
    "    exp_name = f'f_all={f}'\n",
    "\n",
    "    return SimpleNamespace(\n",
    "        data_seed = data_seed,  # seed for data generation\n",
    "        data_protocol = [\n",
    "            {'feature_type': f, 'ids': (r, r + 1), 'margin': 0.1, 'noise': 0.0}\n",
    "            for r in range(0, 32, 2)\n",
    "            # feature_type - feature distribution (only \"tick\" is used in the paper)\n",
    "            # ids - id of features to sample\n",
    "            # margin - width of the separating boundray between classes\n",
    "            # noise - probability of swapping classes for datapoints (always 0.0 in the paper)\n",
    "        ],  # protocol for data generation\n",
    "        multiview_probs = [1.0] * 16,  # utility of each feature (1 to make all points separable,\n",
    "                                       # 0 to initialize all points along the separating boundary)\n",
    "        num_features = 32,             # input dimensionality\n",
    "        train_samples = 512,           # train size\n",
    "        test_samples = 2000,           # test size\n",
    "        batch_size = 16,               # training batch size\n",
    "        num_hidden = 32,               # number of hidden units in MLP\n",
    "        num_layers = 3,                # number of layert in MLP\n",
    "        activation = 'relu',           # activation in MLP\n",
    "        last_layer_norm = 10,          # last layer norm in MLP (last layer is fixed and not trained)\n",
    "        riemann_opt = False,           # whether to use spherical SGD instead of projected SGD\n",
    "                                       # (not described in the paper)\n",
    "        dirichlet_init = None,         # initialize singular values of weight matrices with dirichlet\n",
    "                                       # distribution for low rank initialization (not described in the paper)\n",
    "        pt_iters = 40000,              # pre-training iterations\n",
    "        ft_iters = 20000,              # fine-tuning iterations\n",
    "        ckpt_iters = 100,              # how often to checkpoint model\n",
    "        log_iters = 5,                 # how often to calculate metrics\n",
    "        pt_seed = train_seed,          # pre-training seed\n",
    "        ft_seed = train_seed,          # fine-tuning seed\n",
    "        init_point_seed = train_seed,  # model initialization seed\n",
    "        savedir = f'experiments-final/{exp_name}/PT-FCN-seed={seed}',  # pre-training path\n",
    "        ft_savedir = f'experiments-final/{exp_name}/FT-FCN-seed={seed}',  # fine-tuning path\n",
    "        lrs = np.logspace(-4.5, -2.25, 10).tolist()[:-1] + \\\n",
    "              np.logspace(-2.25, -1.25, 9).tolist()[:-1] + \\\n",
    "              np.logspace(-1.25, 0, 6).tolist()  # learning rate range to use\n",
    "    )"
   ]
  },
  {
   "cell_type": "code",
   "execution_count": null,
   "id": "de6aeb2b",
   "metadata": {},
   "outputs": [],
   "source": [
    "for f in ['tick']:\n",
    "    for data_seed in range(1, 6):\n",
    "        for train_seed in range(1, 11):\n",
    "            print(f'{f}, data seed: {data_seed}, #{train_seed}')\n",
    "            config = get_config(\n",
    "                data_seed, train_seed, f\n",
    "            )\n",
    "            launch_pretraining(config, device)\n",
    "            launch_finetuning(config, device, num_ft_lr=11)\n",
    "\n",
    "        clear_output()"
   ]
  },
  {
   "cell_type": "code",
   "execution_count": null,
   "id": "4b3c0bca",
   "metadata": {},
   "outputs": [],
   "source": []
  }
 ],
 "metadata": {
  "kernelspec": {
   "display_name": "Python 3 (ipykernel)",
   "language": "python",
   "name": "python3"
  },
  "language_info": {
   "codemirror_mode": {
    "name": "ipython",
    "version": 3
   },
   "file_extension": ".py",
   "mimetype": "text/x-python",
   "name": "python",
   "nbconvert_exporter": "python",
   "pygments_lexer": "ipython3",
   "version": "3.10.4"
  }
 },
 "nbformat": 4,
 "nbformat_minor": 5
}
